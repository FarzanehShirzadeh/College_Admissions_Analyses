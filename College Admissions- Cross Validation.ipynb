{
 "cells": [
  {
   "cell_type": "markdown",
   "id": "98ff78b5",
   "metadata": {},
   "source": [
    "## College Admissions Analyses using Cross Validation\n",
    "#### Farzaneh Shirzadeh"
   ]
  },
  {
   "cell_type": "code",
   "execution_count": 15,
   "id": "fcfe2d36",
   "metadata": {},
   "outputs": [
    {
     "data": {
      "text/html": [
       "<div>\n",
       "<style scoped>\n",
       "    .dataframe tbody tr th:only-of-type {\n",
       "        vertical-align: middle;\n",
       "    }\n",
       "\n",
       "    .dataframe tbody tr th {\n",
       "        vertical-align: top;\n",
       "    }\n",
       "\n",
       "    .dataframe thead th {\n",
       "        text-align: right;\n",
       "    }\n",
       "</style>\n",
       "<table border=\"1\" class=\"dataframe\">\n",
       "  <thead>\n",
       "    <tr style=\"text-align: right;\">\n",
       "      <th></th>\n",
       "      <th>admit</th>\n",
       "      <th>gre</th>\n",
       "      <th>gpa</th>\n",
       "      <th>rank</th>\n",
       "    </tr>\n",
       "  </thead>\n",
       "  <tbody>\n",
       "    <tr>\n",
       "      <th>0</th>\n",
       "      <td>No</td>\n",
       "      <td>380</td>\n",
       "      <td>3.61</td>\n",
       "      <td>3</td>\n",
       "    </tr>\n",
       "    <tr>\n",
       "      <th>1</th>\n",
       "      <td>Yes</td>\n",
       "      <td>660</td>\n",
       "      <td>3.67</td>\n",
       "      <td>3</td>\n",
       "    </tr>\n",
       "    <tr>\n",
       "      <th>2</th>\n",
       "      <td>Yes</td>\n",
       "      <td>800</td>\n",
       "      <td>4.00</td>\n",
       "      <td>1</td>\n",
       "    </tr>\n",
       "    <tr>\n",
       "      <th>3</th>\n",
       "      <td>Yes</td>\n",
       "      <td>640</td>\n",
       "      <td>3.19</td>\n",
       "      <td>4</td>\n",
       "    </tr>\n",
       "    <tr>\n",
       "      <th>4</th>\n",
       "      <td>No</td>\n",
       "      <td>520</td>\n",
       "      <td>2.93</td>\n",
       "      <td>4</td>\n",
       "    </tr>\n",
       "  </tbody>\n",
       "</table>\n",
       "</div>"
      ],
      "text/plain": [
       "  admit  gre   gpa  rank\n",
       "0    No  380  3.61     3\n",
       "1   Yes  660  3.67     3\n",
       "2   Yes  800  4.00     1\n",
       "3   Yes  640  3.19     4\n",
       "4    No  520  2.93     4"
      ]
     },
     "execution_count": 15,
     "metadata": {},
     "output_type": "execute_result"
    }
   ],
   "source": [
    "import pandas as pd\n",
    "df = pd.read_csv('College Admissions.csv')\n",
    "df.head()"
   ]
  },
  {
   "cell_type": "markdown",
   "id": "27dc4fc5",
   "metadata": {},
   "source": [
    "## 1. Format the admit column to numeric so it can be fit to a classification model. "
   ]
  },
  {
   "cell_type": "code",
   "execution_count": 16,
   "id": "ca3a2637",
   "metadata": {},
   "outputs": [
    {
     "data": {
      "text/html": [
       "<div>\n",
       "<style scoped>\n",
       "    .dataframe tbody tr th:only-of-type {\n",
       "        vertical-align: middle;\n",
       "    }\n",
       "\n",
       "    .dataframe tbody tr th {\n",
       "        vertical-align: top;\n",
       "    }\n",
       "\n",
       "    .dataframe thead th {\n",
       "        text-align: right;\n",
       "    }\n",
       "</style>\n",
       "<table border=\"1\" class=\"dataframe\">\n",
       "  <thead>\n",
       "    <tr style=\"text-align: right;\">\n",
       "      <th></th>\n",
       "      <th>admit</th>\n",
       "      <th>gre</th>\n",
       "      <th>gpa</th>\n",
       "      <th>rank</th>\n",
       "    </tr>\n",
       "  </thead>\n",
       "  <tbody>\n",
       "    <tr>\n",
       "      <th>0</th>\n",
       "      <td>0</td>\n",
       "      <td>380</td>\n",
       "      <td>3.61</td>\n",
       "      <td>3</td>\n",
       "    </tr>\n",
       "    <tr>\n",
       "      <th>1</th>\n",
       "      <td>1</td>\n",
       "      <td>660</td>\n",
       "      <td>3.67</td>\n",
       "      <td>3</td>\n",
       "    </tr>\n",
       "    <tr>\n",
       "      <th>2</th>\n",
       "      <td>1</td>\n",
       "      <td>800</td>\n",
       "      <td>4.00</td>\n",
       "      <td>1</td>\n",
       "    </tr>\n",
       "    <tr>\n",
       "      <th>3</th>\n",
       "      <td>1</td>\n",
       "      <td>640</td>\n",
       "      <td>3.19</td>\n",
       "      <td>4</td>\n",
       "    </tr>\n",
       "    <tr>\n",
       "      <th>4</th>\n",
       "      <td>0</td>\n",
       "      <td>520</td>\n",
       "      <td>2.93</td>\n",
       "      <td>4</td>\n",
       "    </tr>\n",
       "  </tbody>\n",
       "</table>\n",
       "</div>"
      ],
      "text/plain": [
       "   admit  gre   gpa  rank\n",
       "0      0  380  3.61     3\n",
       "1      1  660  3.67     3\n",
       "2      1  800  4.00     1\n",
       "3      1  640  3.19     4\n",
       "4      0  520  2.93     4"
      ]
     },
     "execution_count": 16,
     "metadata": {},
     "output_type": "execute_result"
    }
   ],
   "source": [
    "df['admit'] = df['admit'].map({'Yes':1, 'No':0})\n",
    "df.head()"
   ]
  },
  {
   "cell_type": "code",
   "execution_count": 17,
   "id": "aa8c6264",
   "metadata": {},
   "outputs": [
    {
     "data": {
      "image/png": "[encoded data removed]",
      "text/plain": [
       "<Figure size 432x288 with 1 Axes>"
      ]
     },
     "metadata": {
      "needs_background": "light"
     },
     "output_type": "display_data"
    }
   ],
   "source": [
    "import matplotlib.pyplot as plt\n",
    "\n",
    "# Extract features and target variable\n",
    "X = df[['gre', 'gpa']]\n",
    "y = df['admit']\n",
    "\n",
    "# Create scatter plot\n",
    "plt.scatter(X[y==0]['gre'], X[y==0]['gpa'], c='r', label='Not admitted')\n",
    "plt.scatter(X[y==1]['gre'], X[y==1]['gpa'], c='g', label='Admitted')\n",
    "\n",
    "# Add labels and legend\n",
    "plt.xlabel('GRE score')\n",
    "plt.ylabel('GPA')\n",
    "plt.legend()\n",
    "\n",
    "# Show the plot\n",
    "plt.show()"
   ]
  },
  {
   "cell_type": "markdown",
   "id": "3a4083e6",
   "metadata": {},
   "source": [
    "## 2. Fit the data to a logistic regression model using scikit learn saving 20% of the data for testing. "
   ]
  },
  {
   "cell_type": "code",
   "execution_count": 18,
   "id": "d75474a5",
   "metadata": {},
   "outputs": [
    {
     "data": {
      "text/plain": [
       "LogisticRegression(solver='liblinear')"
      ]
     },
     "execution_count": 18,
     "metadata": {},
     "output_type": "execute_result"
    }
   ],
   "source": [
    "from sklearn.linear_model import LogisticRegression\n",
    "from sklearn.model_selection import train_test_split\n",
    "\n",
    "#separate train and test data\n",
    "x = df[['gre','gpa','rank']]\n",
    "y = df['admit']\n",
    "from sklearn.model_selection import train_test_split\n",
    "x_train, x_test, y_train, y_test = train_test_split(x, y, test_size=0.20, random_state=42)\n",
    "logisticRegr = LogisticRegression(solver = 'liblinear')\n",
    "logisticRegr.fit(x_train, y_train)"
   ]
  },
  {
   "cell_type": "markdown",
   "id": "fa258cc0",
   "metadata": {},
   "source": [
    "## 3. Fit the data to a support vector machine model using scikit learn saving 20% of the data for testing.\n"
   ]
  },
  {
   "cell_type": "code",
   "execution_count": 19,
   "id": "ab5f9fb6",
   "metadata": {},
   "outputs": [
    {
     "data": {
      "text/plain": [
       "SVC(C=10)"
      ]
     },
     "execution_count": 19,
     "metadata": {},
     "output_type": "execute_result"
    }
   ],
   "source": [
    "#https://scikit-learn.org/stable/modules/generated/sklearn.svm.SVC.html\n",
    "from sklearn.svm import SVC \n",
    "# parameter C defines how large or how small you want to create the margin seperating classes og the target variable\n",
    "model = SVC(C=10)\n",
    "model.fit(x_train, y_train)"
   ]
  },
  {
   "cell_type": "markdown",
   "id": "a58f36f3",
   "metadata": {},
   "source": [
    "## 4. Use scikit learn and the test data to create a confusion matrix for each model. Describe which model preforms better based on the confusion matrix and what you used to determine this. "
   ]
  },
  {
   "cell_type": "markdown",
   "id": "42fa23a9",
   "metadata": {},
   "source": [
    "#### * logistic regression model *"
   ]
  },
  {
   "cell_type": "code",
   "execution_count": 20,
   "id": "a8d6b592",
   "metadata": {
    "scrolled": true
   },
   "outputs": [
    {
     "name": "stdout",
     "output_type": "stream",
     "text": [
      "logistic regression model Accuracy Score: 0.6875\n",
      "[[52  1]\n",
      " [24  3]]\n"
     ]
    }
   ],
   "source": [
    "from sklearn import metrics\n",
    "# Make predictions on entire test data\n",
    "y_pred_lr = logisticRegr.predict(x_test)\n",
    "# Use score method to get accuracy of model. Same as accuracy_score function evaluation. \n",
    "print('logistic regression model Accuracy Score:', logisticRegr.score(x_test, y_test))\n",
    "cm_lr = metrics.confusion_matrix(y_test, y_pred_lr )\n",
    "print(cm_lr)"
   ]
  },
  {
   "cell_type": "markdown",
   "id": "e6667f7c",
   "metadata": {},
   "source": [
    "#### * support vector machine model * "
   ]
  },
  {
   "cell_type": "code",
   "execution_count": 21,
   "id": "239eb949",
   "metadata": {},
   "outputs": [
    {
     "name": "stdout",
     "output_type": "stream",
     "text": [
      "support vector machine model Accuracy Score: 0.6625\n",
      "[[53  0]\n",
      " [27  0]]\n"
     ]
    }
   ],
   "source": [
    "y_pred = model.predict(x_test)\n",
    "print('support vector machine model Accuracy Score:', metrics.accuracy_score(y_test,y_pred))\n",
    "cm_svm = metrics.confusion_matrix(y_test, y_pred)\n",
    "print(cm_svm)"
   ]
  },
  {
   "cell_type": "markdown",
   "id": "1d0be08b",
   "metadata": {},
   "source": [
    "### explenation: \n",
    "Based on the confusion matrix and accuracy score, it seems like the logistic regression model performs better than the support vector machine model. The logistic regression model has a higher accuracy score (0.6875) compared to the SVM model (0.6625). Looking at the confusion matrix, the logistic regression model has a higher true positive rate (52)+ higher true negetive rate (3) compared to the SVM model (53+0). Additionally, the logistic regression model has a lower false negative rate (24) compared to the SVM model (27), which suggests that the logistic regression model is better at correctly identifying positive cases (admitted students) than the SVM model. Therefore, based on these metrics, the logistic regression model is a better choice for this particular problem."
   ]
  },
  {
   "cell_type": "markdown",
   "id": "ae664a37",
   "metadata": {},
   "source": [
    "## 5. For each of the above, use scikit learn to do a cross validation at 5 folds. Describe which model preforms better based on the cross validation and what you used to determine this.\n"
   ]
  },
  {
   "cell_type": "markdown",
   "id": "7da76afc",
   "metadata": {},
   "source": [
    "#### * logistic regression model *"
   ]
  },
  {
   "cell_type": "code",
   "execution_count": 22,
   "id": "99db1f06",
   "metadata": {},
   "outputs": [
    {
     "name": "stdout",
     "output_type": "stream",
     "text": [
      "logistic regression accuracy for each split:  [array([0.7125, 0.75  , 0.725 , 0.6625, 0.725 ])]\n",
      "logistic regression model accuracy:  0.7150000000000001\n"
     ]
    }
   ],
   "source": [
    "#creating vectors to store accuracy at each flod of CV\n",
    "scores_l =[]\n",
    "from sklearn.model_selection import cross_val_score\n",
    "scores_l.append(cross_val_score(LogisticRegression(solver='liblinear'),x,y, cv = 5))\n",
    "\n",
    "#logistic regression accuracy for each split \n",
    "print('logistic regression accuracy for each split: ',scores_l)\n",
    "import numpy as np\n",
    "print('logistic regression model accuracy: ', np.mean(scores_l))"
   ]
  },
  {
   "cell_type": "markdown",
   "id": "008d936f",
   "metadata": {},
   "source": [
    "#### * support vector machine model *"
   ]
  },
  {
   "cell_type": "code",
   "execution_count": 23,
   "id": "d67da4e1",
   "metadata": {},
   "outputs": [
    {
     "name": "stdout",
     "output_type": "stream",
     "text": [
      "#svm accuracy for each split:  [array([0.6875, 0.6875, 0.6875, 0.675 , 0.675 ])]\n",
      "support vector machine model accuracy:  0.6824999999999999\n"
     ]
    }
   ],
   "source": [
    "#svm accuracy for each split \n",
    "scores_svm = []\n",
    "scores_svm.append(cross_val_score(SVC(C=10),x,y))\n",
    "print('#svm accuracy for each split: ', scores_svm)\n",
    "print('support vector machine model accuracy: ', np.mean(scores_svm))"
   ]
  },
  {
   "cell_type": "markdown",
   "id": "542bba1a",
   "metadata": {},
   "source": [
    "### explenation: \n",
    "Based on cross-validation, the logistic regression model has an accuracy score of 0.715, while the support vector machine model has an accuracy score of 0.6825. Therefore, the logistic regression model performs better than the support vector machine model. This was determined by using cross-validation, which splits the data into multiple parts and trains the model on different combinations of these parts, providing a more reliable estimate of the model's performance."
   ]
  },
  {
   "cell_type": "markdown",
   "id": "1da9c97d",
   "metadata": {},
   "source": [
    "## 6. In your own words, describe a difference between the information you were able to take from cross validation compared to the confusion matrix. \n"
   ]
  },
  {
   "cell_type": "markdown",
   "id": "a7dd33b2",
   "metadata": {},
   "source": [
    "### explenation: \n",
    "The confusion matrix and cross validation serve different purposes in evaluating a model's performance. The confusion matrix gives information on the model's ability to correctly predict true positives, true negatives, false positives, and false negatives, which helps evaluate accuracy and precision. In contrast, cross validation tests a model's generalization ability on different subsets of data and helps estimate performance on new data and identify overfitting. The main difference between the two is the type of information they provide and their primary use in evaluating a model's performance."
   ]
  },
  {
   "cell_type": "markdown",
   "id": "1e9c3477",
   "metadata": {},
   "source": [
    "## 7. Choosing two of the four options from the rank column, repeat questions 2 – 5 and compare your results."
   ]
  },
  {
   "cell_type": "code",
   "execution_count": 24,
   "id": "c284bfc9",
   "metadata": {},
   "outputs": [
    {
     "data": {
      "text/html": [
       "<div>\n",
       "<style scoped>\n",
       "    .dataframe tbody tr th:only-of-type {\n",
       "        vertical-align: middle;\n",
       "    }\n",
       "\n",
       "    .dataframe tbody tr th {\n",
       "        vertical-align: top;\n",
       "    }\n",
       "\n",
       "    .dataframe thead th {\n",
       "        text-align: right;\n",
       "    }\n",
       "</style>\n",
       "<table border=\"1\" class=\"dataframe\">\n",
       "  <thead>\n",
       "    <tr style=\"text-align: right;\">\n",
       "      <th></th>\n",
       "      <th>admit</th>\n",
       "      <th>gre</th>\n",
       "      <th>gpa</th>\n",
       "      <th>rank</th>\n",
       "    </tr>\n",
       "  </thead>\n",
       "  <tbody>\n",
       "    <tr>\n",
       "      <th>2</th>\n",
       "      <td>1</td>\n",
       "      <td>800</td>\n",
       "      <td>4.00</td>\n",
       "      <td>1</td>\n",
       "    </tr>\n",
       "    <tr>\n",
       "      <th>5</th>\n",
       "      <td>1</td>\n",
       "      <td>760</td>\n",
       "      <td>3.00</td>\n",
       "      <td>2</td>\n",
       "    </tr>\n",
       "    <tr>\n",
       "      <th>6</th>\n",
       "      <td>1</td>\n",
       "      <td>560</td>\n",
       "      <td>2.98</td>\n",
       "      <td>1</td>\n",
       "    </tr>\n",
       "    <tr>\n",
       "      <th>7</th>\n",
       "      <td>0</td>\n",
       "      <td>400</td>\n",
       "      <td>3.08</td>\n",
       "      <td>2</td>\n",
       "    </tr>\n",
       "    <tr>\n",
       "      <th>9</th>\n",
       "      <td>0</td>\n",
       "      <td>700</td>\n",
       "      <td>3.92</td>\n",
       "      <td>2</td>\n",
       "    </tr>\n",
       "  </tbody>\n",
       "</table>\n",
       "</div>"
      ],
      "text/plain": [
       "   admit  gre   gpa  rank\n",
       "2      1  800  4.00     1\n",
       "5      1  760  3.00     2\n",
       "6      1  560  2.98     1\n",
       "7      0  400  3.08     2\n",
       "9      0  700  3.92     2"
      ]
     },
     "execution_count": 24,
     "metadata": {},
     "output_type": "execute_result"
    }
   ],
   "source": [
    "df_filtered = df[df['rank'].isin([1,2])]\n",
    "df_filtered .head()"
   ]
  },
  {
   "cell_type": "markdown",
   "id": "b1a1d229",
   "metadata": {},
   "source": [
    "# Confusion Matrix"
   ]
  },
  {
   "cell_type": "markdown",
   "id": "95a424af",
   "metadata": {},
   "source": [
    "#### * logistic regression model *"
   ]
  },
  {
   "cell_type": "code",
   "execution_count": 25,
   "id": "3e809d62",
   "metadata": {},
   "outputs": [
    {
     "name": "stdout",
     "output_type": "stream",
     "text": [
      "logistic regression model Accuracy Score: 0.5581395348837209\n",
      "[[21  7]\n",
      " [12  3]]\n"
     ]
    }
   ],
   "source": [
    "from sklearn.linear_model import LogisticRegression\n",
    "from sklearn.model_selection import train_test_split\n",
    "\n",
    "X = df_filtered[['gre', 'gpa', 'rank']]\n",
    "Y = df_filtered['admit']\n",
    "\n",
    "x_train, x_test, y_train, y_test = train_test_split(X, Y, test_size=0.20, random_state=42)\n",
    "logisticRegr = LogisticRegression(solver = 'liblinear')\n",
    "logisticRegr.fit(x_train, y_train)\n",
    "\n",
    "from sklearn import metrics\n",
    "# Make predictions on entire test data\n",
    "y_pred_lr = logisticRegr.predict(x_test)\n",
    "# Use score method to get accuracy of model. Same as accuracy_score function evaluation. \n",
    "print('logistic regression model Accuracy Score:', logisticRegr.score(x_test, y_test))\n",
    "cm_lr = metrics.confusion_matrix(y_test, y_pred_lr )\n",
    "print(cm_lr)"
   ]
  },
  {
   "cell_type": "markdown",
   "id": "d22b3b5f",
   "metadata": {},
   "source": [
    "#### * support vector machine model *"
   ]
  },
  {
   "cell_type": "code",
   "execution_count": 26,
   "id": "a8fd6b37",
   "metadata": {},
   "outputs": [
    {
     "name": "stdout",
     "output_type": "stream",
     "text": [
      "support vector machine model Accuracy Score: 0.627906976744186\n",
      "[[24  4]\n",
      " [12  3]]\n"
     ]
    }
   ],
   "source": [
    "#https://scikit-learn.org/stable/modules/generated/sklearn.svm.SVC.html\n",
    "from sklearn.svm import SVC \n",
    "# parameter C defines how large or how small you want to create the margin seperating classes og the target variable\n",
    "model = SVC(C=10)\n",
    "model.fit(x_train, y_train)\n",
    "y_pred = model.predict(x_test)\n",
    "print('support vector machine model Accuracy Score:', metrics.accuracy_score(y_test,y_pred))\n",
    "cm_svm = metrics.confusion_matrix(y_test, y_pred)\n",
    "print(cm_svm)"
   ]
  },
  {
   "cell_type": "markdown",
   "id": "b17d43e5",
   "metadata": {},
   "source": [
    "# Cross Validation"
   ]
  },
  {
   "cell_type": "markdown",
   "id": "38f230eb",
   "metadata": {},
   "source": [
    "#### * Logistic Regression *"
   ]
  },
  {
   "cell_type": "code",
   "execution_count": 27,
   "id": "654aaa33",
   "metadata": {},
   "outputs": [
    {
     "name": "stdout",
     "output_type": "stream",
     "text": [
      "logistic regression accuracy for each split:  [array([0.55813953, 0.65116279, 0.71428571, 0.52380952, 0.66666667])]\n",
      "logistic regression model accuracy:  0.6228128460686599\n"
     ]
    }
   ],
   "source": [
    "#creating vectors to store accuracy at each flod of CV\n",
    "scores_l =[]\n",
    "from sklearn.model_selection import cross_val_score\n",
    "scores_l.append(cross_val_score(LogisticRegression(solver='liblinear'),X,Y, cv = 5))\n",
    "#logistic regression accuracy for each split \n",
    "print('logistic regression accuracy for each split: ',scores_l)\n",
    "import numpy as np\n",
    "print('logistic regression model accuracy: ', np.mean(scores_l))"
   ]
  },
  {
   "cell_type": "markdown",
   "id": "feaca2e8",
   "metadata": {},
   "source": [
    "#### * support vector machine model *"
   ]
  },
  {
   "cell_type": "code",
   "execution_count": 28,
   "id": "f350efb9",
   "metadata": {},
   "outputs": [
    {
     "name": "stdout",
     "output_type": "stream",
     "text": [
      "svm accuracy for each split:  [array([0.58139535, 0.58139535, 0.5952381 , 0.57142857, 0.5952381 ])]\n",
      "support vector machine model accuracy:  0.584939091915836\n"
     ]
    }
   ],
   "source": [
    "#svm accuracy for each split \n",
    "scores_svm = []\n",
    "scores_svm.append(cross_val_score(SVC(C=10),X,Y))\n",
    "print('svm accuracy for each split: ', scores_svm)\n",
    "print('support vector machine model accuracy: ', np.mean(scores_svm))"
   ]
  },
  {
   "cell_type": "markdown",
   "id": "ef76bdaf",
   "metadata": {},
   "source": [
    "### a.\tHow has the accuracy of the model changed when this is accounted for?"
   ]
  },
  {
   "cell_type": "markdown",
   "id": "5fcdaae2",
   "metadata": {},
   "source": [
    "In the second scenario, the accuracy of both the logistic regression and support vector machine models decreased when cross-validation was taken into account. However, the logistic regression model continued to perform better than the SVM model in terms of accuracy. The confusion matrix showed that the logistic regression model had a lower accuracy score but had a better true positive rate compared to the SVM model, which had a higher accuracy score but a lower true positive rate. It is important to note that the small size of the dataset may have affected the performance of both models, and additional analysis may be required to determine the optimal model for this problem."
   ]
  },
  {
   "cell_type": "code",
   "execution_count": null,
   "id": "092b6df7",
   "metadata": {},
   "outputs": [],
   "source": []
  }
 ],
 "metadata": {
  "kernelspec": {
   "display_name": "Python 3 (ipykernel)",
   "language": "python",
   "name": "python3"
  },
  "language_info": {
   "codemirror_mode": {
    "name": "ipython",
    "version": 3
   },
   "file_extension": ".py",
   "mimetype": "text/x-python",
   "name": "python",
   "nbconvert_exporter": "python",
   "pygments_lexer": "ipython3",
   "version": "3.9.7"
  }
 },
 "nbformat": 4,
 "nbformat_minor": 5
}
